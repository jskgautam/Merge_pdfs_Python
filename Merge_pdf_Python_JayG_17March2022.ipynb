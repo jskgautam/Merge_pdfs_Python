{
 "cells": [
  {
   "cell_type": "markdown",
   "metadata": {},
   "source": [
    "### Merge two or Multiple pdf files using Python\n",
    "<b> Author: Jay Gautam, Darmstadt Germany.\\\n",
    "<b> => Download code and related pdf from Github."
   ]
  },
  {
   "cell_type": "code",
   "execution_count": 19,
   "metadata": {},
   "outputs": [],
   "source": [
    "pip install PyPDF2"
   ]
  },
  {
   "cell_type": "code",
   "execution_count": 18,
   "metadata": {},
   "outputs": [
    {
     "name": "stdout",
     "output_type": "stream",
     "text": [
      "All the pdfs are merged and saved to the folder.\n"
     ]
    }
   ],
   "source": [
    "# Import the libraries.\n",
    "\n",
    "from PyPDF2 import PdfFileMerger\n",
    "import warnings\n",
    "warnings.filterwarnings(\"ignore\")\n",
    "\n",
    "# write the name of your pdf's in the list\n",
    "#.. all pdf must be in the folder of python file\n",
    "pdf_list = ['Python_cheat_sheet.pdf',\n",
    "            'Scikit_Learn_Cheat_Sheet_Python.pdf',\n",
    "            'ML_SciKit-Learn-Cheat-Sheets.pdf']\n",
    "\n",
    "# Create the object of merger function.\n",
    "merged_pdf_object = PdfFileMerger()\n",
    "\n",
    "# Iterate over individual pdf and merge in order.\n",
    "for pdf_i in pdf_list:\n",
    "    merged_pdf_object.append(pdf_i)\n",
    "\n",
    "# Save the merged pdf- ypu can change your file name.\n",
    "merged_pdf_object.write(\"Python_ML_CheatSheet.pdf\")\n",
    "merged_pdf_object.close()\n",
    "print(\"All the pdfs are merged and saved to the folder.\")"
   ]
  },
  {
   "cell_type": "code",
   "execution_count": null,
   "metadata": {},
   "outputs": [],
   "source": []
  }
 ],
 "metadata": {
  "kernelspec": {
   "display_name": "Python 3",
   "language": "python",
   "name": "python3"
  },
  "language_info": {
   "codemirror_mode": {
    "name": "ipython",
    "version": 3
   },
   "file_extension": ".py",
   "mimetype": "text/x-python",
   "name": "python",
   "nbconvert_exporter": "python",
   "pygments_lexer": "ipython3",
   "version": "3.8.3"
  },
  "toc": {
   "base_numbering": 1,
   "nav_menu": {},
   "number_sections": true,
   "sideBar": true,
   "skip_h1_title": false,
   "title_cell": "Table of Contents",
   "title_sidebar": "Contents",
   "toc_cell": false,
   "toc_position": {},
   "toc_section_display": true,
   "toc_window_display": false
  }
 },
 "nbformat": 4,
 "nbformat_minor": 4
}
